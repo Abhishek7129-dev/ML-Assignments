{
 "cells": [
  {
   "cell_type": "code",
   "execution_count": 1,
   "id": "1c18933d-1b87-4459-b02a-1e73c3114ce8",
   "metadata": {},
   "outputs": [
    {
     "name": "stdin",
     "output_type": "stream",
     "text": [
      "Enter a positive integer:  20\n"
     ]
    },
    {
     "name": "stdout",
     "output_type": "stream",
     "text": [
      "The sum of all even numbers between 1 and 20 is: 110\n"
     ]
    }
   ],
   "source": [
    "def sum_of_evens(n):\n",
    "    \"\"\"\n",
    "    Calculate the sum of all even numbers between 1 and n.\n",
    "\n",
    "    Parameters:\n",
    "    n (int): The upper limit (inclusive).\n",
    "\n",
    "    Returns:\n",
    "    int: The sum of all even numbers between 1 and n.\n",
    "    \"\"\"\n",
    "    if n < 1:\n",
    "        raise ValueError(\"The input must be a positive integer.\")\n",
    "    \n",
    "    # Using list comprehension and sum function to find the sum of even numbers\n",
    "    return sum(i for i in range(2, n + 1, 2))\n",
    "\n",
    "# Input from the user\n",
    "try:\n",
    "    n = int(input(\"Enter a positive integer: \"))\n",
    "    if n < 1:\n",
    "        print(\"Please enter a positive integer greater than or equal to 1.\")\n",
    "    else:\n",
    "        result = sum_of_evens(n)\n",
    "        print(f\"The sum of all even numbers between 1 and {n} is: {result}\")\n",
    "except ValueError:\n",
    "    print(\"Invalid input! Please enter a valid positive integer.\")"
   ]
  },
  {
   "cell_type": "code",
   "execution_count": null,
   "id": "4cf0c964-038b-4438-b4c5-1f4673f43623",
   "metadata": {},
   "outputs": [],
   "source": []
  }
 ],
 "metadata": {
  "kernelspec": {
   "display_name": "Python [conda env:base] *",
   "language": "python",
   "name": "conda-base-py"
  },
  "language_info": {
   "codemirror_mode": {
    "name": "ipython",
    "version": 3
   },
   "file_extension": ".py",
   "mimetype": "text/x-python",
   "name": "python",
   "nbconvert_exporter": "python",
   "pygments_lexer": "ipython3",
   "version": "3.12.7"
  }
 },
 "nbformat": 4,
 "nbformat_minor": 5
}
